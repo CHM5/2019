{
 "cells": [
  {
   "cell_type": "code",
   "execution_count": 2,
   "metadata": {},
   "outputs": [],
   "source": [
    "import numpy as np\n",
    "import matplotlib.pyplot as plt\n",
    "import scipy                  # http://scipy.org/\n",
    "from scipy import signal\n",
    "\n",
    "from IPython.display import Image  \n",
    "%matplotlib inline\n",
    "params = {'legend.fontsize': 24,\n",
    "          'figure.figsize': (12, 8),\n",
    "         'axes.labelsize': 24,\n",
    "         'axes.titlesize': 24,\n",
    "         'xtick.labelsize':24,\n",
    "         'ytick.labelsize':24}\n",
    "plt.rcParams.update(params) "
   ]
  },
  {
   "cell_type": "markdown",
   "metadata": {},
   "source": [
    "## Máxima transferencia $ Q $ constante."
   ]
  },
  {
   "cell_type": "code",
   "execution_count": 3,
   "metadata": {},
   "outputs": [
    {
     "data": {
      "image/png": "[encoded data removed]",
      "text/plain": [
       "<IPython.core.display.Image object>"
      ]
     },
     "execution_count": 3,
     "metadata": {
      "image/png": {
       "width": 450
      }
     },
     "output_type": "execute_result"
    }
   ],
   "source": [
    "Image(filename= \"fig/maxPot.png\",width=450) "
   ]
  },
  {
   "cell_type": "markdown",
   "metadata": {},
   "source": [
    "Se busca el valor de $R_L$ para lograr la máxima transferencia de energia desde la fuente para un dado un $ Q_c $.\n",
    "\n",
    "\n",
    "$$ P_{R_L} = \\frac{v_L^2}{ R_L} $$\n",
    "\n",
    "$$ P_{R_L} = \\frac{(i_g \\cdot \\frac{1}{\\frac{1}{r_g} + \\frac{1}{r_p} + \\frac{1}{R_L} })^2}{ R_L} $$\n",
    "\n",
    "$$ P_{R_L} = \\frac{i_g^2}{  R_L \\cdot (\\frac{1}{r_g} + \\frac{1}{r_p} + \\frac{1}{R_L})^2 } $$\n",
    "\n",
    "\n"
   ]
  },
  {
   "cell_type": "markdown",
   "metadata": {},
   "source": [
    "$r_p$ se puede escribir en función de $Q_c$ como:\n",
    "\n",
    "$$ \\frac{1}{Q_c} =  \\frac{1}{Q_o} + \\frac{w_o \\cdot L}{R }   $$\n",
    "\n",
    "$$ w_o \\cdot L = R \\cdot (\\frac{1}{Q_c} -  \\frac{1}{Q_o} )   $$\n",
    "\n",
    "donde $  R = \\frac{R_L \\cdot r_g }{ R_L + r_g  } $.\n",
    "\n",
    "$$ Q_o = \\frac{r_p}{ w_o \\cdot L} $$ \n",
    "\n",
    "$$ r_p   = w_o \\cdot L \\cdot Q_o $$ \n",
    "\n",
    "$$ r_p   = R \\cdot (\\frac{1}{Q_c} -  \\frac{1}{Q_o} ) \\cdot Q_o $$\n",
    "\n",
    "$$ r_p   =  \\frac{R_L \\cdot r_g }{ R_L + r_g  } \\cdot (\\frac{Q_o}{Q_c} -  1 )  $$\n",
    "\n",
    "\n",
    "Remplazando $rp $ en la ecuación de la potencia: \n",
    "\n",
    "$$ P_{R_L} = \\frac{i_g^2}{  R_L \\cdot (\\frac{1}{r_g} + \\frac{1}{\\frac{R_L \\cdot r_g }{ R_L + r_g  } \\cdot (\\frac{Q_o}{Q_c} -  1 ) } + \\frac{1}{R_L})^2 } $$\n",
    "\n",
    "\n",
    "$$ P_{R_L} = \\frac{i_g^2}{  R_L \\cdot (\\frac{1}{r_g} + \\frac{R_L + r_g  }{R_L \\cdot r_g \\cdot (\\frac{Q_o}{Q_c} -  1 ) } + \\frac{1}{R_L})^2 } $$\n",
    "\n",
    "$$ P_{R_L} = \\frac{i_g^2 \\cdot R_L^2 \\cdot r_g^2 }{  R_L \\cdot (r_g + \\frac{R_L + r_g  }{ (\\frac{Q_o}{Q_c} -  1 ) } + R_L)^2 } $$\n",
    "\n",
    "$$ P_{R_L} = \\frac{i_g^2 \\cdot R_L \\cdot r_g^2 }{  (r_g + \\frac{R_L + r_g  }{ (\\frac{Q_o}{Q_c} -  1 ) } + R_L)^2 } $$\n",
    " \n",
    "$$ P_{R_L} = \\frac{i_g^2 \\cdot R_L \\cdot r_g^2 }{ (R_L + r_g)^2 \\cdot (1 + \\frac{ 1 }{ (\\frac{Q_o}{Q_c} -  1 ) } )^2 } $$ \n",
    "\n"
   ]
  },
  {
   "cell_type": "markdown",
   "metadata": {},
   "source": [
    "$$ P_{R_L} = \\frac{i_g^2 \\cdot R_L \\cdot r_g^2 }{ (R_L + r_g)^2 \\cdot ( \\frac{ \\frac{Q_o}{Q_c} }{ (\\frac{Q_o}{Q_c} -  1 ) } )^2 } $$ \n",
    "\n",
    "$$ P_{R_L} = \\frac{i_g^2 \\cdot R_L \\cdot r_g^2 }{ (R_L + r_g)^2 \\cdot ( \\frac{ Q_o }{ Q_o -  Q_c  } )^2 } $$ \n",
    "\n",
    "$$ P_{R_L} = \\frac{i_g^2 \\cdot R_L }{ (\\frac{R_L + r_g}{r_g}  \\cdot  \\frac{ Q_o }{ Q_o -  Q_c  } )^2 } $$ \n",
    "\n",
    "\n",
    "$$ P_{R_L} =  \\frac{i_g^2}{(\\frac{ Q_o }{ Q_o -  Q_c  })^2}   \\cdot \\frac{ R_L \\cdot  r_g^2}{ (R_L + r_g)^2 } $$ \n",
    "\n"
   ]
  },
  {
   "cell_type": "markdown",
   "metadata": {},
   "source": [
    "Buscando el maximo valor de $ P_{R_L} $:\n",
    "\n",
    "$$ \\frac{\\partial P_{R_L}}{\\partial R_L } = \\frac{i_g^2}{(\\frac{ Q_o }{ Q_o -  Q_c  })^2}   \\cdot \\frac{[(r_g^2 \\cdot (R_L^2 + r_g)^2) - 2 \\cdot (R_L +  r_g) \\cdot (R_L \\cdot  r_g^2)  ]}{(R_L +  r_g)^4} = 0$$\n",
    "\n",
    "\n",
    "$$ (r_g^2 \\cdot (R_L + r_g)^2) - 2 \\cdot (R_L +  r_g) \\cdot (R_L \\cdot  r_g^2)   = 0 $$\n",
    "\n",
    "$$ r_g^2 \\cdot (R_L + r_g)^2 = 2 \\cdot (R_L +  r_g) \\cdot (R_L \\cdot  r_g^2)  $$\n",
    "\n"
   ]
  },
  {
   "cell_type": "markdown",
   "metadata": {},
   "source": [
    "$$  (R_L + r_g)  = 2 \\cdot R_L   $$\n",
    "\n",
    "$$ R_L = r_g $$\n",
    "\n",
    "Entonces :\n",
    "\n",
    "$$ P_{R_L} =  \\frac{i_g^2}{(\\frac{ Q_o }{ Q_o -  Q_c  })^2}   \\cdot \\frac{ r_g \\cdot  r_g^2}{ (r_g + r_g)^2 } $$ \n",
    "\n",
    "$$ P_{R_L} =  \\frac{i_g^2}{(\\frac{ Q_o }{ Q_o -  Q_c  })^2}   \\cdot \\frac{ r_g }{ 4 } $$ \n",
    "\n",
    "$$ P_{R_L MAX: (RL =  rg) } =  \\frac{i_g^2 \\cdot r_g}{4}   \\cdot (1 - \\frac{ Q_c }{ Q_o })^2 $$ "
   ]
  },
  {
   "cell_type": "markdown",
   "metadata": {},
   "source": [
    "Suponer que $R_g = 10 \\Omega$, $f_o = 1 MHz$, $Q_0 = 30$  y $Q_c = 10$.\n"
   ]
  },
  {
   "cell_type": "code",
   "execution_count": 17,
   "metadata": {},
   "outputs": [],
   "source": [
    "rg = 10\n",
    "fo = 1e6\n",
    "Qo = 100\n",
    "Qc = 10\n",
    "\n"
   ]
  },
  {
   "cell_type": "code",
   "execution_count": 18,
   "metadata": {},
   "outputs": [
    {
     "data": {
      "image/png": "[encoded data removed]",
      "text/plain": [
       "<matplotlib.figure.Figure at 0x7f6616c4d9b0>"
      ]
     },
     "metadata": {},
     "output_type": "display_data"
    }
   ],
   "source": [
    "def PRL(ig, RL, rg, rp, Qc):\n",
    "    return ig**2 * (RL * rg**2)/(RL + rg)**2 * (1 - Qc/Qo)**2\n",
    "\n",
    "\n",
    "def PRG(ig, RL, rg, rp):\n",
    "    return ig**2 / rg / (1/RL +1/rg + 1/rp )**2\n",
    "\n",
    "def PRP(ig, RL, rg, rp):\n",
    "    p =  ig**2 / rp / (1/RL +1/rg + 1/rp )**2\n",
    "    return p \n",
    "\n",
    "rl = np.arange(1,40,1)\n",
    "\n",
    "\n",
    "for r in rl:\n",
    "    prl = PRL(1, r, rg, Qo, Qc)\n",
    "    plt.plot(r/rg, prl, 'r.')\n",
    "    \n",
    "    wL = (1/Qc - 1/Qo) * (r * rg)/(r + rg)\n",
    "    prp = PRP(1, r, rg, (Qo * wL) )\n",
    "    plt.plot(r/rg, prp, 'g.')\n",
    "    \n",
    "    prg = PRG(1, r, rg, (Qo * wL) )\n",
    "    plt.plot(r/rg, prg, 'y.')    \n",
    "    \n",
    "    pt = prl + prp + prg \n",
    "    plt.plot(r/rg,pt , 'b.')"
   ]
  },
  {
   "cell_type": "code",
   "execution_count": null,
   "metadata": {},
   "outputs": [],
   "source": []
  }
 ],
 "metadata": {
  "kernelspec": {
   "display_name": "Python 3",
   "language": "python",
   "name": "python3"
  },
  "language_info": {
   "codemirror_mode": {
    "name": "ipython",
    "version": 3
   },
   "file_extension": ".py",
   "mimetype": "text/x-python",
   "name": "python",
   "nbconvert_exporter": "python",
   "pygments_lexer": "ipython3",
   "version": "3.5.5"
  }
 },
 "nbformat": 4,
 "nbformat_minor": 2
}
